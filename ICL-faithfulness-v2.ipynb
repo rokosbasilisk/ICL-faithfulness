{
 "cells": [
  {
   "cell_type": "code",
   "execution_count": 133,
   "id": "e14c101b",
   "metadata": {},
   "outputs": [],
   "source": [
    "import json\n",
    "import requests\n",
    "from openai import OpenAI\n",
    "import os\n",
    "import tiktoken\n",
    "import random\n",
    "from tqdm import tqdm\n",
    "from concurrent.futures import ProcessPoolExecutor, as_completed\n",
    "import concurrent.futures\n",
    "import matplotlib.pyplot as plt"
   ]
  },
  {
   "cell_type": "code",
   "execution_count": 2,
   "id": "3dcc6578",
   "metadata": {},
   "outputs": [],
   "source": [
    "gpt_model = \"gpt-3.5-turbo\"\n",
    "encoding = tiktoken.encoding_for_model(\"gpt-3.5-turbo\")"
   ]
  },
  {
   "cell_type": "code",
   "execution_count": 3,
   "id": "6e073ae0",
   "metadata": {},
   "outputs": [],
   "source": [
    "client = OpenAI()"
   ]
  },
  {
   "cell_type": "code",
   "execution_count": 4,
   "id": "a8096bcf",
   "metadata": {},
   "outputs": [],
   "source": [
    "def call_model(prompt,gpt_model):\n",
    "    completion = client.chat.completions.create(model=gpt_model,\n",
    "            messages=[{'role': 'user', 'content': prompt}],\n",
    "            temperature=0.3)\n",
    "    return completion.choices[0].message.content"
   ]
  },
  {
   "cell_type": "markdown",
   "id": "1597e32a",
   "metadata": {},
   "source": [
    "### Step 1. Find classification tasks that are learnable in-context"
   ]
  },
  {
   "cell_type": "code",
   "execution_count": 5,
   "id": "ec4b7e4e",
   "metadata": {},
   "outputs": [],
   "source": [
    "ques_prefix = \"\"\"\n",
    "Here are 3 simple classification rules and example inputs which better explain when the rule is satisfied.\n",
    "You have to create a composite rule which is a combination of all these 3 rules, and give 7 examples for that rule and write in similar format\n",
    "Write only Rule, input and label, nothing else\n",
    "\n",
    "Use the following structure to write them:\n",
    "\n",
    "Rule: Example Rule\n",
    "Input: input1 Label: True\n",
    "Input: input2 Label: False\n",
    "Input: input3 Label: False\n",
    "Input: input4 Label: True\n",
    "Input: input5 Label: False\n",
    "Input: input6 Label: True\n",
    "Input: input7 Label: False\n",
    "\n",
    "Make sure to give atleast 7 examples\n",
    "\"\"\""
   ]
  },
  {
   "cell_type": "code",
   "execution_count": 6,
   "id": "bab7fda2",
   "metadata": {},
   "outputs": [],
   "source": [
    "with open(\"data/data_v2.json\",\"r\") as f:\n",
    "    data = json.loads(f.read())"
   ]
  },
  {
   "cell_type": "code",
   "execution_count": 7,
   "id": "ebab9cac",
   "metadata": {},
   "outputs": [],
   "source": [
    "# the data contains groupings of rules as keys and values being hte rule level tasks"
   ]
  },
  {
   "cell_type": "code",
   "execution_count": 9,
   "id": "48491abd",
   "metadata": {},
   "outputs": [],
   "source": [
    "def get_n_rand_keys(dict_keys,n):\n",
    "    return list(random.sample(list(dict_keys), n))"
   ]
  },
  {
   "cell_type": "code",
   "execution_count": 10,
   "id": "161745ab",
   "metadata": {},
   "outputs": [],
   "source": [
    "def pick_rand_sample(data):\n",
    "    \n",
    "    examples = []\n",
    "    \n",
    "    rules_groups = get_n_rand_keys(data,3)\n",
    "    rule_set = []\n",
    "    for rule_group in rules_groups:\n",
    "        rule = get_n_rand_keys(data[rule_group],1)[0]\n",
    "        example = \"Rule: \"+data[rule_group][rule][\"example\"]+\"\\n\"+\"\\n\".join(data[rule_group][rule][\"inputs\"])\n",
    "        rule_set.append(data[rule_group][rule])\n",
    "        examples.append(example)\n",
    "    return examples,rule_set"
   ]
  },
  {
   "cell_type": "code",
   "execution_count": 11,
   "id": "8e5b1268",
   "metadata": {},
   "outputs": [],
   "source": [
    "def get_question_seed():\n",
    "    ques_suffix,rule_set = pick_rand_sample(data)\n",
    "    return ques_prefix+\"\\n\\n\".join(ques_suffix), rule_set"
   ]
  },
  {
   "cell_type": "code",
   "execution_count": 12,
   "id": "56ad22d6",
   "metadata": {},
   "outputs": [],
   "source": [
    "def num_tokens_from_string(string) -> int:\n",
    "    num_tokens = len(encoding.encode(string))\n",
    "    return num_tokens"
   ]
  },
  {
   "cell_type": "code",
   "execution_count": 13,
   "id": "e2112892",
   "metadata": {},
   "outputs": [],
   "source": [
    "def get_tok_cost(token_count):\n",
    "    return (0.001*token_count[\"input\"]/1000)+(0.002*token_count[\"output\"]/1000)"
   ]
  },
  {
   "cell_type": "code",
   "execution_count": 14,
   "id": "312dc281",
   "metadata": {},
   "outputs": [],
   "source": [
    "# dataset generation"
   ]
  },
  {
   "cell_type": "code",
   "execution_count": 30,
   "id": "e924d628",
   "metadata": {},
   "outputs": [],
   "source": [
    "def process_sample(idx):\n",
    "    ques, rule_set = get_question_seed()\n",
    "    token_count[\"input\"] += num_tokens_from_string(ques)\n",
    "    sample = call_model(ques,gpt_model)\n",
    "    token_count[\"output\"] += num_tokens_from_string(sample)\n",
    "    #print(\"approx cost so far: {:.3f}\".format(round(get_tok_cost(token_count), 3)))\n",
    "    return sample, rule_set\n",
    "\n",
    "# Assuming n_samples is the total number of iterations\n",
    "n_samples = 250  # Replace this with the actual value\n",
    "\n",
    "#data_list = []\n",
    "token_count = {\"input\": 0, \"output\": 0}\n",
    "\n",
    "# Use ProcessPoolExecutor for parallel processing\n",
    "with ProcessPoolExecutor(max_workers=4) as executor:\n",
    "    futures = [executor.submit(process_sample, idx) for idx in range(n_samples)]\n",
    "\n",
    "    # Manually update tqdm progress bar\n",
    "    with tqdm(total=n_samples, desc=\"Processing samples\") as pbar:\n",
    "        for future in as_completed(futures):\n",
    "            try:\n",
    "                data_list.append(future.result())\n",
    "                pbar.update(1)\n",
    "            except KeyboardInterrupt:\n",
    "                # Handle interrupt gracefully\n",
    "                print(\"Interrupted. Partial results obtained so far.\")\n",
    "                break"
   ]
  },
  {
   "cell_type": "code",
   "execution_count": 29,
   "id": "e14a7bec",
   "metadata": {},
   "outputs": [
    {
     "data": {
      "text/plain": [
       "250"
      ]
     },
     "execution_count": 29,
     "metadata": {},
     "output_type": "execute_result"
    }
   ],
   "source": [
    "len(data_list)"
   ]
  },
  {
   "cell_type": "code",
   "execution_count": 31,
   "id": "007c555e",
   "metadata": {},
   "outputs": [],
   "source": [
    "with open(\"data/composite_data_v2.txt\",\"w\") as f:\n",
    "    for line in data_list:\n",
    "        f.write(\"\\n\"+line[0]+\"\\n\")"
   ]
  },
  {
   "cell_type": "code",
   "execution_count": 35,
   "id": "2000769a",
   "metadata": {},
   "outputs": [],
   "source": [
    "composite_rule_list = []\n",
    "with open(\"data/composite_rules_v2.txt\",\"w\") as f:\n",
    "    for line in data_list:\n",
    "        composite_rule_list.append(line[1])\n",
    "        f.write(\"\\n\"+str(line[1])+\"\\n\")"
   ]
  },
  {
   "cell_type": "code",
   "execution_count": 47,
   "id": "d0a99b5d",
   "metadata": {},
   "outputs": [],
   "source": [
    "with open(\"data/composite_data_v2.txt\",\"r\") as f: ## reading data after manual cleaning\n",
    "    data_list = f.read().split(\"\\n\\n\")"
   ]
  },
  {
   "cell_type": "code",
   "execution_count": 48,
   "id": "8dae2ae6",
   "metadata": {},
   "outputs": [
    {
     "name": "stderr",
     "output_type": "stream",
     "text": [
      "100%|████████████████████████████████████████████████████████████████████████████████████████████████████████████████████████████████████████████████████████████████████████| 250/250 [00:00<00:00, 312262.06it/s]"
     ]
    },
    {
     "name": "stdout",
     "output_type": "stream",
     "text": [
      "Input: No specific rhyme scheme observed. Bananas are my favorite. Today is good day. Label: False\n",
      "Input: She sat by the river. No technology company names mentioned. A cat on a mat. Label: False\n",
      "Input: No special symbols here. No mythological references found. This is a Random sentence. Label: False\n",
      "Input: This news is sad. A cat on a mat. No rhyming words. Label: False\n"
     ]
    },
    {
     "name": "stderr",
     "output_type": "stream",
     "text": [
      "\n"
     ]
    }
   ],
   "source": [
    "generated_data = []\n",
    "\n",
    "for sample in tqdm(data_list):\n",
    "    \n",
    "\n",
    "    lines = sample.split(\"\\n\")\n",
    "    if lines[-1] == '': lines = lines[:-1]\n",
    "    rule = lines[0].split(\": \")[1]\n",
    "    try:\n",
    "        x = lines[6].split(\"Input: \")[1].split(\" Label\")[0] # take only first 6 examples for ICL\n",
    "        y = lines[6].split(\"Input: \")[1].split(\"Label: \")[1]\n",
    "    except:\n",
    "        # print lines that are incorrectly formatted\n",
    "        print(lines[-1])\n",
    "        \n",
    "    generated_data.append({\"rule\":rule,\"examples\":lines[1:6], \"x\":x,\"y\":y})"
   ]
  },
  {
   "cell_type": "code",
   "execution_count": 50,
   "id": "035c3d8a",
   "metadata": {},
   "outputs": [
    {
     "data": {
      "text/plain": [
       "250"
      ]
     },
     "execution_count": 50,
     "metadata": {},
     "output_type": "execute_result"
    }
   ],
   "source": [
    "len(generated_data)"
   ]
  },
  {
   "cell_type": "code",
   "execution_count": 51,
   "id": "fbca24ce",
   "metadata": {},
   "outputs": [],
   "source": [
    "template = \"\"\"\n",
    "Based on these examples\n",
    "{examples}\n",
    "\n",
    "predict the label for this\n",
    "{input} Label: \n",
    "\"\"\""
   ]
  },
  {
   "cell_type": "code",
   "execution_count": 52,
   "id": "3905082c",
   "metadata": {},
   "outputs": [
    {
     "name": "stderr",
     "output_type": "stream",
     "text": [
      "100%|████████████████████████████████████████████████████████████████████████████████████████████████████████████████████████████████████████████████████████████████████████████| 250/250 [00:11<00:00, 22.35it/s]\n"
     ]
    }
   ],
   "source": [
    "\n",
    "# Function to process each sample in parallel\n",
    "def process_sample(sample):\n",
    "    examples = sample[\"examples\"]\n",
    "    input_to_predict = sample[\"x\"]\n",
    "    prompt = template.format(examples='\\n'.join(examples), input=input_to_predict)\n",
    "    resp = call_model(prompt,gpt_model)\n",
    "    return [sample[\"y\"], resp]\n",
    "\n",
    "# Use ThreadPoolExecutor for parallel processing\n",
    "with concurrent.futures.ThreadPoolExecutor() as executor:\n",
    "    # Map the function to the list of samples and retrieve results using tqdm\n",
    "    predictions = list(tqdm(executor.map(process_sample, generated_data), total=len(generated_data)))\n",
    "\n",
    "# Now predictions contains the results in parallel"
   ]
  },
  {
   "cell_type": "code",
   "execution_count": 53,
   "id": "221aedbb",
   "metadata": {},
   "outputs": [],
   "source": [
    "with open(\"data/predictions_v2.txt\",\"w\") as f:\n",
    "    for line in predictions:\n",
    "        f.write(\"\\n\"+str(line)+\"\\n\")"
   ]
  },
  {
   "cell_type": "code",
   "execution_count": 54,
   "id": "091fd7d6",
   "metadata": {},
   "outputs": [
    {
     "name": "stdout",
     "output_type": "stream",
     "text": [
      "[['False', 'False'], ['False', 'False'], ['False', 'False'], ['True', 'True'], ['False', 'False'], ['False', 'True'], ['False', 'False'], ['False', 'False'], ['False', 'False'], ['False', 'False'], ['True', 'False'], ['False', 'False'], ['False', 'True'], ['False', 'False'], ['False', 'False'], ['False', 'False'], ['False', 'False'], ['False', 'False'], ['False', 'False'], ['False', 'False']]\n"
     ]
    }
   ],
   "source": [
    "print(predictions[:20])"
   ]
  },
  {
   "cell_type": "code",
   "execution_count": 55,
   "id": "f63384d5",
   "metadata": {},
   "outputs": [],
   "source": [
    "def get_acc(preds):\n",
    "    score = []\n",
    "    results = []\n",
    "    for pred in preds:\n",
    "        if pred[0].lower() in pred[1].lower(): # approximate string check!\n",
    "            score.append(1.0)\n",
    "        else:\n",
    "            score.append(0.0)\n",
    "    return (sum(score)*100/len(preds),score)"
   ]
  },
  {
   "cell_type": "code",
   "execution_count": 56,
   "id": "1cc1e79a",
   "metadata": {},
   "outputs": [],
   "source": [
    "accuracy, results = get_acc(predictions) # results will be used later"
   ]
  },
  {
   "cell_type": "code",
   "execution_count": 57,
   "id": "9c17a7fe",
   "metadata": {},
   "outputs": [
    {
     "name": "stdout",
     "output_type": "stream",
     "text": [
      "Accuracy of label prediction: 79.6%\n"
     ]
    }
   ],
   "source": [
    "print(\"Accuracy of label prediction:\", f\"{round(accuracy, 2)}%\")\n",
    "# TODO: get the accuracy above 90%"
   ]
  },
  {
   "cell_type": "markdown",
   "id": "7b7efb09",
   "metadata": {},
   "source": [
    "### Step 2. Test the LLM’s ability to articulate the rules"
   ]
  },
  {
   "cell_type": "code",
   "execution_count": 58,
   "id": "4102198d",
   "metadata": {},
   "outputs": [],
   "source": [
    "rule_prediction_template = \"\"\"\n",
    "For the following examples \n",
    "{examples}\n",
    "\n",
    "predict the rule that could be used to classify the examples as True or False\n",
    "\n",
    "Option A: {ruleA} \n",
    "\n",
    "Option B: {ruleB} \n",
    "\n",
    "Option C: {ruleC} \n",
    "\n",
    "Option D: {ruleD}\n",
    "\n",
    "respond with a single alphabet of the option and nothing else, only single alphabet\n",
    "\"\"\""
   ]
  },
  {
   "cell_type": "code",
   "execution_count": 59,
   "id": "a5cc5771",
   "metadata": {},
   "outputs": [],
   "source": [
    "# randomly pick 3 elements which are not equal to the current element?\n",
    "def pick_random_elements(lst, excluded_element):\n",
    "    # Filter elements that are not equal to the excluded element\n",
    "    eligible_elements = [ele for ele in lst if ele != excluded_element]\n",
    "\n",
    "    # Check if there are at least 3 eligible elements\n",
    "    if len(eligible_elements) >= 3:\n",
    "        # Randomly pick 3 elements from the eligible elements\n",
    "        random_elements = random.sample(eligible_elements, 3)\n",
    "        return random_elements\n",
    "    else:\n",
    "        print(\"Not enough eligible elements in the list.\")\n",
    "        return None"
   ]
  },
  {
   "cell_type": "code",
   "execution_count": 68,
   "id": "6c1b78c1",
   "metadata": {},
   "outputs": [],
   "source": [
    "def process_sample(sample):\n",
    "    examples = sample[\"examples\"]\n",
    "    input_to_predict = sample[\"x\"]\n",
    "    random_samples = pick_random_elements(generated_data, sample)\n",
    "    rules = [item['rule'] for item in random_samples]\n",
    "    rules.append(sample[\"rule\"])\n",
    "    random.shuffle(rules)\n",
    "    rules_dict = dict(zip([\"A\", \"B\", \"C\", \"D\"], rules))\n",
    "\n",
    "    prompt = rule_prediction_template.format(\n",
    "        examples='\\n'.join(examples),\n",
    "        ruleA=rules_dict['A'],\n",
    "        ruleB=rules_dict['B'],\n",
    "        ruleC=rules_dict['C'],\n",
    "        ruleD=rules_dict['D'])\n",
    "\n",
    "    token_count[\"input\"] += num_tokens_from_string(prompt)\n",
    "    resp = call_model(prompt, gpt_model)\n",
    "    token_count[\"output\"] += num_tokens_from_string(resp)\n",
    "    return [sample[\"rule\"], resp, rules_dict]\n",
    "\n",
    "# Assuming generated_data is your list of samples\n",
    "# n_samples is the total number of iterations\n",
    "n_samples = len(generated_data)  # Replace this with the actual value\n",
    "\n",
    "rule_predictions = []\n",
    "token_count = {\"input\": 0, \"output\": 0}\n",
    "\n",
    "# Use ProcessPoolExecutor for parallel processing\n",
    "with ProcessPoolExecutor(max_workers=4) as executor:\n",
    "    futures = [executor.submit(process_sample, sample) for sample in generated_data]\n",
    "\n",
    "    # Manually update tqdm progress bar\n",
    "    with tqdm(total=n_samples, desc=\"Processing samples\") as pbar:\n",
    "        for future in as_completed(futures):\n",
    "            try:\n",
    "                rule_predictions.append(future.result())\n",
    "                pbar.update(1)\n",
    "            except KeyboardInterrupt:\n",
    "                # Handle interrupt gracefully\n",
    "                print(\"Interrupted. Partial results obtained so far.\")\n",
    "                break"
   ]
  },
  {
   "cell_type": "code",
   "execution_count": 75,
   "id": "226de932",
   "metadata": {},
   "outputs": [],
   "source": [
    "def get_classification_acc(rule_predictions):\n",
    "    score = 0.0\n",
    "    for pred in rule_predictions:\n",
    "        option = pred[1][-1] # get single alphabet (some responses are like Option A instead of just A)\n",
    "        if pred[2][option] == pred[0]: score+=1.0\n",
    "    return (score*100/len(rule_predictions))"
   ]
  },
  {
   "cell_type": "code",
   "execution_count": 76,
   "id": "52e96f23",
   "metadata": {},
   "outputs": [
    {
     "data": {
      "text/plain": [
       "80.32128514056225"
      ]
     },
     "execution_count": 76,
     "metadata": {},
     "output_type": "execute_result"
    }
   ],
   "source": [
    "get_classification_acc(rule_predictions) # overall 61% accurate in predicting the rules all over the dataset\n",
    "# this includes the options for both correctly classified labels and incorrectly classified ones"
   ]
  },
  {
   "cell_type": "code",
   "execution_count": null,
   "id": "5be62564",
   "metadata": {},
   "outputs": [],
   "source": [
    "# for the predictions which are true"
   ]
  },
  {
   "cell_type": "code",
   "execution_count": 137,
   "id": "38633b47",
   "metadata": {},
   "outputs": [],
   "source": [
    "subset_rule_predictions = [rule_pred for rule_pred, result in zip(rule_predictions, results) if result == 1]"
   ]
  },
  {
   "cell_type": "code",
   "execution_count": 138,
   "id": "986a21c2",
   "metadata": {},
   "outputs": [],
   "source": [
    "classification_accuracy = get_classification_acc(subset_rule_predictions) # 63% overall 61% accurate in predicting the rules all over the dataset"
   ]
  },
  {
   "cell_type": "code",
   "execution_count": 139,
   "id": "fc2c9509",
   "metadata": {},
   "outputs": [
    {
     "name": "stdout",
     "output_type": "stream",
     "text": [
      "Percentage of rules which are correct among the correctly predicted labels: 81.82%\n"
     ]
    }
   ],
   "source": [
    "# Print the result\n",
    "print(\"Percentage of rules which are correct among the correctly predicted labels:\", f\"{round(classification_accuracy, 2)}%\")"
   ]
  },
  {
   "cell_type": "markdown",
   "id": "85f8a7ca",
   "metadata": {},
   "source": [
    "### Step 3. Investigating faithfulness"
   ]
  },
  {
   "cell_type": "code",
   "execution_count": 140,
   "id": "540748d7",
   "metadata": {},
   "outputs": [],
   "source": [
    "# there is a drop in accuracy between step-1 and step-2\n",
    "# ~79% of the labels are correctly classified but only 63.29% of the rules are correctly identified by the model"
   ]
  },
  {
   "cell_type": "code",
   "execution_count": 141,
   "id": "b23d435d",
   "metadata": {},
   "outputs": [],
   "source": [
    "def get_misclassified_rules(rule_predictions):\n",
    "    misclassified_rules = []\n",
    "    for pred in rule_predictions:\n",
    "        option = pred[1][-1] # get single alphabet (some )\n",
    "        if pred[2][option] != pred[0]:\n",
    "            misclassified_rules.append(pred[0])\n",
    "    return (misclassified_rules)"
   ]
  },
  {
   "cell_type": "code",
   "execution_count": 147,
   "id": "ccdb6428",
   "metadata": {},
   "outputs": [],
   "source": [
    "def get_misclassified_rules_individual(rule_predictions):\n",
    "    misclassified_rules = []\n",
    "    missed_rules = \n",
    "    for idx in range(len(rule_predictions)):\n",
    "        pred = rule_predictions[idx]\n",
    "        option = pred[1][-1] # get single alphabet (some )\n",
    "        if pred[2][option] != pred[0]:\n",
    "            misclassified_rules.append(pred[0])\n",
    "    return (misclassified_rules)"
   ]
  },
  {
   "cell_type": "code",
   "execution_count": 142,
   "id": "580bb391",
   "metadata": {},
   "outputs": [],
   "source": [
    "misclassified_rules = get_misclassified_rules(subset_rule_predictions)"
   ]
  },
  {
   "cell_type": "code",
   "execution_count": 86,
   "id": "c2904f76",
   "metadata": {},
   "outputs": [],
   "source": [
    "# the following are the rules for which the label is correctly classified but the rule is incorrectly identified"
   ]
  },
  {
   "cell_type": "code",
   "execution_count": null,
   "id": "4f2e1c61",
   "metadata": {},
   "outputs": [],
   "source": [
    "# testing the LLM to check if it can generate examples for these rules correctly"
   ]
  },
  {
   "cell_type": "code",
   "execution_count": null,
   "id": "07079ca8",
   "metadata": {},
   "outputs": [],
   "source": [
    "for rule in misclassified_rules:\n",
    "    prompt = \"write a sentance which will be labeled 'True' based on the following rule: \"+rule\n",
    "    resp = call_model(prompt)\n",
    "    print(rule+\"\\n\"+resp+\"\\n\\n\")"
   ]
  },
  {
   "cell_type": "code",
   "execution_count": null,
   "id": "d97c2fe7",
   "metadata": {},
   "outputs": [],
   "source": [
    "# notes on misclassified rules along with model-generated examples"
   ]
  },
  {
   "cell_type": "raw",
   "id": "3dbd7d63",
   "metadata": {},
   "source": [
    "Misclassified Rules and examples for them as generated by the model:\n",
    "\n",
    "\n",
    "The input is labeled as 'True' if it contains a smiley face, the number of words is odd, and it reads the same backward as forward.\n",
    "\"Wow, that's a level paddle: :-) very cool!\"\n",
    "feedback: it contains a smily and number of words is odd, but clearly this doesnt read same backward and forward\n",
    "\n",
    "\n",
    "The input is labeled as 'True' if it contains a political term, any special characters, and the number of words is greater than 5.\n",
    "The presidential debate in Washington, D.C. was intense, with candidates clashing on multiple issues and policies.\n",
    "feedback: no special characters are present in this\n",
    "\n",
    "\n",
    "The input is labeled as 'True' if it follows an A-B-A rhyme scheme, all words are in uppercase, and contains a smiley face.\n",
    "He was SAD :( SAD because of the RAIN :( rain.\n",
    "feedback: all words are not uppercase\n",
    "\n",
    "\n",
    "\n",
    "The input is labeled as 'True' if it contains the '@' symbol and contradictory statements and two words that rhyme.\n",
    "I saw a cat chasing a rat, while sending an email with contradictory statements.\n",
    "feedback: '@' is not present\n",
    "\n",
    "\n",
    "The input is labeled as 'True' if it contains any special characters, the word 'apple', or mentions a date.\n",
    "\"I bought an apple on July 4th!\"\n",
    "feedback: this example is correct\n",
    "\n",
    "\n",
    "The input is labeled as 'True' if it mentions a color, contains gender-specific pronouns, and the word lengths form an arithmetic progression.\n",
    "\"The tall man wearing a red hat walked past the blue house.\"\n",
    "feedback: not in arithmetic progression\n",
    "\n",
    "\n",
    "The input is labeled as 'True' if it contains numbers in exponential notation, any special characters, and the number of words is greater than 5.\n",
    "\"The research paper presented at the conference explored the significant impact of artificial intelligence on various industries, such as healthcare, finance, and manufacturing, using data in exponential notation and special characters.\"\n",
    "feedback: instead of using e^x the word \"exponential notation\" is present!\n",
    "\n",
    "\n",
    "\n",
    "The input is labeled as 'True' if it contains an acronym, two words that rhyme, and the word 'apple'.\n",
    "\"NASA and FIFA, both famous acronyms, rhyme just like 'apple'!\"\n",
    "feedback: this is correct\n",
    "\n",
    "\n",
    "\n",
    "The input is labeled as 'True' if it mentions a geographical location, contains any special characters, and contains three consecutive consonants.\n",
    "I traveled to New York City last summer - True.\n",
    "feedback: this is correct\n",
    "\n",
    "\n",
    "\n",
    "The input is labeled as 'True' if it contains contradictory statements, verbs in the future tense, and any numeric digits.\n",
    "The weather forecast predicts sunny skies tomorrow, but it will rain with 100% chance.\n",
    "feedback: this is correct\n",
    "\n",
    "\n",
    "\n",
    "The input is labeled as 'True' if it mentions the name of a technology company, the word lengths form an arithmetic progression, and all words are in uppercase.\n",
    "APPLE, Microsoft, IBM are technology companies.\n",
    "feedback: this is correct, except for the arithmetic progression\n",
    "\n",
    "\n",
    "\n",
    "The input is labeled as 'True' if it contains an acronym, all words are in uppercase, and it contains any special characters.\n",
    "\"The team discussed the new AI technology, which included the use of NLP, and utilized various programming languages such as Python, Java, and C++.\"\n",
    "feedback: this is correct\n",
    "\n",
    "\n",
    "The input is labeled as 'True' if it contains the name of an animal, the '@' symbol, and the word lengths form an arithmetic progression.\n",
    "\"The cat @ 3, the dog @ 5, and the elephant @ 8, form an arithmetic progression.\"\n",
    "feedback: this is correct\n",
    "\n",
    "\n",
    "The input is labeled as 'True' if it contains a reference to mythology, has more than 5 words, and all words are in uppercase.\n",
    "The ancient Greek gods, led by Zeus, ruled over Mount Olympus with a divine power.\n",
    "feedback: this is incorrect\n",
    "\n",
    "\n",
    "The input is labeled as 'True' if the number of words is even and it contains an acronym or a smiley face.\n",
    "\"The sentence contains an acronym, :) , and an even number of words, making it 'True'.\"\n",
    "feedback: this is incorrect\n",
    "\n",
    "\n",
    "The input is labeled as 'True' if it mentions a date, contains the word 'not', and has three consecutive consonants.\n",
    "On November 15th, I realized I could not attend the conference due to unforeseen circumstances, and I felt somewhat disappointed\n",
    "feedback: this is correct\n",
    "\n",
    "\n",
    "\n",
    "The input is labeled as 'True' if it mentions a geographical location, contains comparative adjectives, and the word lengths follow the Fibonacci sequence.\n",
    "The beautiful city, filled with tall skyscrapers and vibrant cultural diversity, has a population equal to the previous year's count.\n",
    "feedback: this is incorrect\n",
    "\n",
    "\n",
    " The input is labeled as 'True' if the number of letters in each word is a prime number AND the case alternates between words AND all words are in uppercase.\n",
    "\"THE MAN RAN AND JUMPED.\"\n",
    "feedback: this is incorrect (counting)\n",
    "\n",
    "\n",
    "The input is labeled as 'True' if the word lengths form an arithmetic progression, it contains proper nouns, and it contains a smiley face.\n",
    "\"The joyful celebration with Jack and Sarah, along with their contagious smiles, created a pleasant atmosphere.\"\n",
    "feedback: this is incorrect\n",
    "\n",
    "\n",
    "The input is labeled as 'True' if it mentions a color, all words are in uppercase, and the case alternates between words.\n",
    "\"The red and GREEN colors WERE vibrant and BEAUTIFUL.\"\n",
    "feedback: this is incorrect\n",
    "\n",
    "\n",
    "\n",
    "The input is labeled as 'True' if it contains three consecutive consonants, follows the Fibonacci sequence in word lengths, and contains comparative adjectives.\n",
    "\"The long, dark tunnel echoes with an eerie silence.\"\n",
    "feedback: this is incorrect\n",
    "\n",
    "\n",
    "\n",
    "The input is labeled as 'True' if it contains three words with the same starting letter, the word lengths follow the Fibonacci sequence, and it contains a political term.\n",
    "\"Fantastic fascist footballers flocked fiercely.\"\n",
    "feedback: this is incorrect\n",
    "\n",
    "\n",
    "The input is labeled as 'True' if it contains superlative adjectives, has an even number of words, and contains three consecutive vowels.\n",
    "\"The large, stunning, breathtaking sunset on the beach showcased the most picturesque view I've ever seen.\"\n",
    "feedback: this is incorrect\n",
    "\n",
    "\n",
    "The input is labeled as 'True' if it contains verbs in the future tense, mentions a mathematical equation, and contains the '@' symbol.\n",
    "\"Tomorrow, I will solve the equation x + y = z @.\"\n",
    "feedback: this is correct\n",
    "\n",
    "\n",
    "\n",
    "The input is labeled as 'True' if it contains the '@' symbol AND the number of words is even AND it starts with a capital letter.\n",
    "My email is johndoe@example.com.\n",
    "feedback: this is correct\n",
    "\n",
    "\n",
    "\n",
    "The input is labeled as 'True' if it starts with a capital letter, contains three words with the same starting letter, and contains an acronym.\n",
    "The Amazing Apple Approved ATA.\n",
    "feedback: this is correct\n",
    "\n",
    "\n",
    "The input is labeled as 'True' if it contains an exclamation mark AND contradictory statements AND the number of words is even.\n",
    "The statement \"I love rainy days, but I also hate getting wet!\"\n",
    "feedback: this is correct\n",
    "\n",
    "\n",
    "The input is labeled as 'True' if it contains three consecutive consonants AND three consecutive vowels AND a political term.\n",
    "\"The senator inaugurated an economic plan to boost the country's development.\"\n",
    "feedback: this is incorrect\n",
    "\n",
    "\n",
    "The input is labeled as 'True' if all words are in uppercase AND the word lengths form an arithmetic progression AND it contains at least one adjective.\n",
    "\"The QUICK BROWN fox JUMPS over the LAZY dog and SLOWLY continues its journey.\"\n",
    "feedback: this is incorrect"
   ]
  },
  {
   "cell_type": "code",
   "execution_count": null,
   "id": "ba062ebb",
   "metadata": {},
   "outputs": [],
   "source": [
    "rule_prefix = \"The input is labeled as 'True' \""
   ]
  },
  {
   "cell_type": "code",
   "execution_count": null,
   "id": "677e71dd",
   "metadata": {},
   "outputs": [],
   "source": [
    "missed_rules = [rule.split(rule_prefix)[1] for rule in misclassified_rules]"
   ]
  },
  {
   "cell_type": "code",
   "execution_count": null,
   "id": "a659626d",
   "metadata": {},
   "outputs": [],
   "source": [
    "list(data.keys())"
   ]
  },
  {
   "cell_type": "code",
   "execution_count": null,
   "id": "64efaa5f",
   "metadata": {},
   "outputs": [],
   "source": [
    "with open(\"data/icl_rules.json\",\"r\") as f:\n",
    "    icl_rules = json.loads(f.read())"
   ]
  },
  {
   "cell_type": "code",
   "execution_count": null,
   "id": "e75f898b",
   "metadata": {},
   "outputs": [],
   "source": [
    "icl_rules"
   ]
  },
  {
   "cell_type": "code",
   "execution_count": null,
   "id": "56d7a1fa",
   "metadata": {},
   "outputs": [],
   "source": [
    "missed_rules"
   ]
  },
  {
   "cell_type": "code",
   "execution_count": null,
   "id": "e440f8a6",
   "metadata": {},
   "outputs": [],
   "source": [
    "missed_rule_words_prompt = \"\"\"\n",
    "split these rules into independant smaller rules and write in 1 word what they are related to,  for example if the rule is about \"smiley face, the number of words is odd, and it reads the same backward as forward\"  then write:\n",
    "\n",
    "then write:\n",
    "\n",
    "smily face\n",
    "read backward\n",
    "word count odd\n",
    "\n",
    "in 3 separate lines\n",
    "\n",
    "\n",
    "here are the rules: \n",
    "\"\"\""
   ]
  },
  {
   "cell_type": "code",
   "execution_count": null,
   "id": "22519ff8",
   "metadata": {},
   "outputs": [],
   "source": [
    "missclassified_rule_ideas = call_model(missed_rule_words_prompt+\"\\n\".join(missed_rules))"
   ]
  },
  {
   "cell_type": "code",
   "execution_count": null,
   "id": "84dd1c28",
   "metadata": {},
   "outputs": [],
   "source": [
    "# transform missclassified_rule_ideas to a single list"
   ]
  },
  {
   "cell_type": "code",
   "execution_count": null,
   "id": "28703b2e",
   "metadata": {},
   "outputs": [],
   "source": [
    "missclassified_rule_ideas = [\n",
    "    ['smiley face', 'word count odd', 'read backward'],\n",
    "    ['political term', 'special characters', 'word count greater than 5'],\n",
    "    ['A-B-A rhyme scheme', 'all uppercase', 'smiley face'],\n",
    "    ['@ symbol', 'contradictory statements', 'rhyming words'],\n",
    "    ['special characters', \"'apple'\", 'date'],\n",
    "    ['color', 'gender-specific pronouns', 'arithmetic progression word lengths'],\n",
    "    ['numbers in exponential notation', 'special characters', 'word count greater than 5'],\n",
    "    ['acronym', 'rhyming words', \"'apple'\"],\n",
    "    ['geographical location', 'special characters', 'three consecutive consonants'],\n",
    "    ['contradictory statements', 'future tense verbs', 'numeric digits'],\n",
    "    ['technology company name', 'arithmetic progression word lengths', 'all uppercase'],\n",
    "    ['acronym', 'all uppercase', 'special characters'],\n",
    "    ['animal name', \"'@' symbol\", 'arithmetic progression word lengths'],\n",
    "    ['mythology reference', 'more than 5 words', 'all uppercase'],\n",
    "    ['even number of words', 'acronym or smiley face'],\n",
    "    ['date', \"'not' word\", 'three consecutive consonants'],\n",
    "    ['geographical location', 'comparative adjectives', 'Fibonacci sequence word lengths'],\n",
    "    ['prime number letters', 'case alternates', 'all uppercase'],\n",
    "    ['arithmetic progression word lengths', 'proper nouns', 'smiley face'],\n",
    "    ['color', 'all uppercase', 'case alternates'],\n",
    "    ['three consecutive consonants', 'Fibonacci sequence word lengths', 'comparative adjectives'],\n",
    "    ['three words with the same starting letter', 'Fibonacci sequence word lengths', 'political term'],\n",
    "    ['superlative adjectives', 'even number of words', 'three consecutive vowels'],\n",
    "    ['future tense verbs', 'mathematical equation', \"'@' symbol\"],\n",
    "    [\"'@' symbol\", 'even number of words', 'starts with a capital letter'],\n",
    "    ['starts with a capital letter', 'three words with the same starting letter', 'acronym'],\n",
    "    ['exclamation mark', 'contradictory statements', 'even number of words'],\n",
    "    ['three consecutive consonants', 'three consecutive vowels', 'political term'],\n",
    "    ['all uppercase', 'arithmetic progression word lengths', 'at least one adjective']\n",
    "]"
   ]
  },
  {
   "cell_type": "code",
   "execution_count": null,
   "id": "ad0dee5c",
   "metadata": {},
   "outputs": [],
   "source": [
    "missclassified_rule_ideas = [item for sublist in missclassified_rule_ideas for item in sublist]"
   ]
  },
  {
   "cell_type": "code",
   "execution_count": null,
   "id": "5bc6e8b4",
   "metadata": {},
   "outputs": [],
   "source": [
    "from wordcloud import WordCloud, STOPWORDS\n",
    "import matplotlib.pyplot as plt\n",
    "\n",
    "\n",
    "# Combine all statements into a single string\n",
    "text = \" \".join(missclassified_rule_ideas)\n",
    "\n",
    "# Additional stopwords to ignore\n",
    "additional_stopwords = set(['if', 'it', 'contains', 'a', 'the', 'and', 'is', 'as', 'an', 'or', 'and', 'of', \n",
    "                            'in', 'to', 'with', 'for', 'at', 'on', 'by', 'has', 'have', 'that', 'this', 'it', \n",
    "                            'not', 'from', 'which','all', 'are', 'was', 'if', 'AND', 'OR', 'I', 'you', 'me',\n",
    "                            \"word\",\"words\",\"mentions\"])\n",
    "\n",
    "# Generate a word cloud, excluding common stopwords\n",
    "wordcloud = WordCloud(width=800, height=400, background_color='white', stopwords=STOPWORDS.union(additional_stopwords)).generate(text)\n",
    "\n",
    "# Plot the WordCloud image\n",
    "plt.figure(figsize=(10, 5))\n",
    "plt.imshow(wordcloud, interpolation='bilinear')\n",
    "plt.axis('off')\n",
    "plt.show()\n",
    "\n"
   ]
  },
  {
   "cell_type": "code",
   "execution_count": 88,
   "id": "0bdd6b8b",
   "metadata": {},
   "outputs": [],
   "source": [
    "# pie chart for misclassified predictions at label-label"
   ]
  },
  {
   "cell_type": "code",
   "execution_count": 92,
   "id": "2647d5f0",
   "metadata": {},
   "outputs": [],
   "source": [
    "def get_miss_classified_rule_at_labels(preds):\n",
    "    score = []\n",
    "    results = []\n",
    "    \n",
    "    for idx in range(len(preds)):\n",
    "        if preds[idx][0].lower() in preds[idx][1].lower(): # approximate string check!\n",
    "            score.append(1.0)\n",
    "            miss_classified_rule_at_labels.append(composite_rule_list[idx])\n",
    "        else:\n",
    "            score.append(0.0)\n",
    "    return (sum(score)*100/len(preds),score,miss_classified_rule_at_labels)"
   ]
  },
  {
   "cell_type": "code",
   "execution_count": 93,
   "id": "2c5bf253",
   "metadata": {},
   "outputs": [],
   "source": [
    "_, __, miss_classified_rule_at_labels = get_miss_classified_rule_at_labels(predictions)"
   ]
  },
  {
   "cell_type": "code",
   "execution_count": 98,
   "id": "b644eadb",
   "metadata": {},
   "outputs": [
    {
     "data": {
      "text/plain": [
       "[{'example': \"The input is labeled as 'True' if it reads the same backward as forward.\",\n",
       "  'inputs': ['Input: A man, a plan, a canal, Panama! Label: True',\n",
       "   'Input: This is a Random sentence. Label: False']},\n",
       " {'example': \"The input is labeled as 'True' if it contains the '@' symbol.\",\n",
       "  'inputs': ['Input: Email me @example.com. Label: True',\n",
       "   'Input: No special symbols here. Label: False']},\n",
       " {'example': \"The input is labeled as 'True' if the word lengths alternate between odd and even.\",\n",
       "  'inputs': ['Input: cat on mat. Label: True',\n",
       "   'Input: Three mice ran away. Label: False']}]"
      ]
     },
     "execution_count": 98,
     "metadata": {},
     "output_type": "execute_result"
    }
   ],
   "source": [
    "miss_classified_rule_at_labels[0]"
   ]
  },
  {
   "cell_type": "code",
   "execution_count": 89,
   "id": "e3cc3623",
   "metadata": {},
   "outputs": [],
   "source": [
    "# pie chart for misclassified predictions at rule-label"
   ]
  },
  {
   "cell_type": "code",
   "execution_count": 121,
   "id": "63f244b5",
   "metadata": {},
   "outputs": [],
   "source": [
    "for level1_key, level1_value in data.items():\n",
    "    for level2_key, level2_value in level1_value.items():\n",
    "        rule_groups[level1_value[level2_key][\"example\"]] = level1_key\n"
   ]
  },
  {
   "cell_type": "code",
   "execution_count": 130,
   "id": "aba54ff7",
   "metadata": {},
   "outputs": [
    {
     "name": "stdout",
     "output_type": "stream",
     "text": [
      "{'Sentence Structure': 81, 'Symbol and Character Presence': 95, 'Word Count': 75, 'Grammatical': 84, 'Language Context': 95, 'Word Pattern and Structure': 74, 'Knowledge Domain': 93}\n"
     ]
    }
   ],
   "source": [
    "miss_classified_rule_at_labels_count = {}\n",
    "\n",
    "rule_prefix = \"The input is labeled as 'True' if \"\n",
    "\n",
    "for inner_list in miss_classified_rule_at_labels:\n",
    "    for item in inner_list:\n",
    "        example = item['example']\n",
    "        miss_classified_rule_at_labels_count[rule_groups[example]] = miss_classified_rule_at_labels_count.get(rule_groups[example], 0) + 1\n",
    "\n",
    "print(miss_classified_rule_at_labels_count)\n"
   ]
  },
  {
   "cell_type": "code",
   "execution_count": 131,
   "id": "bcb093c8",
   "metadata": {},
   "outputs": [
    {
     "data": {
      "text/plain": [
       "{'Sentence Structure': 81,\n",
       " 'Symbol and Character Presence': 95,\n",
       " 'Word Count': 75,\n",
       " 'Grammatical': 84,\n",
       " 'Language Context': 95,\n",
       " 'Word Pattern and Structure': 74,\n",
       " 'Knowledge Domain': 93}"
      ]
     },
     "execution_count": 131,
     "metadata": {},
     "output_type": "execute_result"
    }
   ],
   "source": [
    "miss_classified_rule_at_labels_count"
   ]
  },
  {
   "cell_type": "code",
   "execution_count": 134,
   "id": "e1dcd5a6",
   "metadata": {},
   "outputs": [
    {
     "data": {
      "image/png": "[encoded data removed]",
      "text/plain": [
       "<Figure size 640x480 with 1 Axes>"
      ]
     },
     "metadata": {},
     "output_type": "display_data"
    }
   ],
   "source": [
    "total = sum(miss_classified_rule_at_labels_count.values())\n",
    "percentages = [(value / total) * 100 for value in miss_classified_rule_at_labels_count.values()]\n",
    "\n",
    "# Create a pie chart\n",
    "plt.pie(percentages, labels=miss_classified_rule_at_labels_count.keys(), autopct='%1.1f%%', startangle=140)\n",
    "plt.title('Percentage Distribution of Wrongly classified Tasks')\n",
    "plt.axis('equal')  # Equal aspect ratio ensures that the pie chart is circular.\n",
    "\n",
    "# Display the chart\n",
    "plt.show()\n"
   ]
  },
  {
   "cell_type": "code",
   "execution_count": null,
   "id": "c82442fe",
   "metadata": {},
   "outputs": [],
   "source": [
    "miss_classified_rule_at_rule_count = {}\n",
    "\n",
    "rule_prefix = \"The input is labeled as 'True' if \"\n",
    "\n",
    "for inner_list in miss_classified_rule_at_rule_count:\n",
    "    for item in inner_list:\n",
    "        example = item['example']\n",
    "        miss_classified_rule_at_labels_count[rule_groups[example]] = miss_classified_rule_at_labels_count.get(rule_groups[example], 0) + 1\n",
    "\n",
    "print(miss_classified_rule_at_labels_count)\n"
   ]
  },
  {
   "cell_type": "code",
   "execution_count": 136,
   "id": "726eae3d",
   "metadata": {},
   "outputs": [
    {
     "data": {
      "text/plain": [
       "[\"The input is labeled as 'True' if it contains the name of an animal, the '@' symbol, and reads the same backward as forward.\",\n",
       " \"The input is labeled as 'True' if it contains the name of an animal, contradictory statements, and a repeated letter.\",\n",
       " \"The input is labeled as 'True' if it starts with a capital letter, contains any special characters, and the number of letters in each word is a prime number.\",\n",
       " \"The input is labeled as 'True' if it contains contradictory statements and all words are in uppercase and mentions the name of a technology company.\",\n",
       " \"The input is labeled as 'True' if it contains verbs in the future tense, an exclamation mark, and the sentence structure resembles a question.\",\n",
       " \"The input is labeled as 'True' if it contains a repeated letter.\",\n",
       " \"The input is labeled as 'True' if it contains an exclamation mark, and the word lengths alternate between odd and even, and it contains numbers in exponential notation.\",\n",
       " \"The input is labeled as 'True' if it contains three consecutive vowels and a smiley face and any numeric digits.\",\n",
       " \"The input is labeled as 'True' if it contains an acronym and two negation words and all words are in uppercase.\",\n",
       " \"The input is labeled as 'True' if it contains three consecutive vowels and contractions and any special characters.\",\n",
       " \"The input is labeled as 'True' if the number of letters in each word is a prime number and it contains numbers in exponential notation and it contains the '@' symbol.\",\n",
       " \"The input is labeled as 'True' if the sentence structure resembles a question and mentions a date and contains three consecutive vowels.\",\n",
       " \"The input is labeled as 'True' if all words are in uppercase and the word lengths alternate between odd and even and it contains contradictory statements.\",\n",
       " \"The input is labeled as 'True' if it starts with a capital letter, contains the word 'not', and contains a smiley face.\",\n",
       " \"The input is labeled as 'True' if the number of words is odd and all words are in uppercase and it contains gender-specific pronouns.\",\n",
       " \"The input is labeled as 'True' if the number of words is odd and it mentions weather conditions and it reads the same backward as forward.\",\n",
       " \"The input is labeled as 'True' if the number of letters in each word is a prime number and it contains three consecutive consonants and it contains three words with the same starting letter.\",\n",
       " \"The input is labeled as 'True' if it contains an exclamation mark, a repeated letter, and contradictory statements.\",\n",
       " \"The input is labeled as 'True' if it mentions a mathematical equation and the number of letters in each word is a prime number and it contains any numeric digits.\",\n",
       " \"The input is labeled as 'True' if it contains contradictory statements.\",\n",
       " \"The input is labeled as 'True' if the number of letters in each word is a prime number, the case alternates between words, and it contains a smiley face.\",\n",
       " \"The input is labeled as 'True' if it contains three consecutive consonants.\",\n",
       " \"The input is labeled as 'True' if it contains superlative adjectives and three consecutive vowels and any numeric digits.\",\n",
       " \"The input is labeled as 'True' if it contains an acronym, the word 'apple', and gender-specific pronouns.\",\n",
       " \"The input is labeled as 'True' if it contains contractions and a repeated letter and the name of an animal.\",\n",
       " \"The input is labeled as 'True' if it contains the '@' symbol, follows an A-B-A rhyme scheme, and the word lengths alternate between odd and even.\",\n",
       " \"The input is labeled as 'True' if it contains two words that rhyme.\",\n",
       " \"The input is labeled as 'True' if it contains a repeated letter, mentions a date, and contains gender-specific pronouns.\",\n",
       " \"The input is labeled as 'True' if it contains the name of an animal, contradictory statements, and any special characters.\",\n",
       " \"The input is labeled as 'True' if it contains the '@' symbol, the word 'not', and an acronym.\",\n",
       " \"The input is labeled as 'True' if it contains the word 'not', mentions a geographical location, and has an odd number of words.\",\n",
       " \"The input is labeled as 'True' if it follows an A-B-A rhyme scheme, all words are in uppercase, and contains gender-specific pronouns.\",\n",
       " \"The input is labeled as 'True' if the number of letters in each word is a prime number and it contains three consecutive consonants and it contains a political term.\",\n",
       " \"The input is labeled as 'True' if it contains three consecutive consonants.\",\n",
       " \"The input is labeled as 'True' if it contains an exclamation mark.\",\n",
       " \"The input is labeled as 'True' if it contains any numeric digits and any special characters, and the number of letters in each word is a prime number.\"]"
      ]
     },
     "execution_count": 136,
     "metadata": {},
     "output_type": "execute_result"
    }
   ],
   "source": [
    "misclassified_rules"
   ]
  },
  {
   "cell_type": "code",
   "execution_count": 144,
   "id": "abd90e21",
   "metadata": {},
   "outputs": [
    {
     "data": {
      "text/plain": [
       "[\"The input is labeled as 'True' if it contains the name of an animal, the '@' symbol, and reads the same backward as forward.\",\n",
       " \"The input is labeled as 'True' if it contains the name of an animal, contradictory statements, and a repeated letter.\",\n",
       " \"The input is labeled as 'True' if it starts with a capital letter, contains any special characters, and the number of letters in each word is a prime number.\",\n",
       " \"The input is labeled as 'True' if it contains contradictory statements and all words are in uppercase and mentions the name of a technology company.\",\n",
       " \"The input is labeled as 'True' if it contains verbs in the future tense, an exclamation mark, and the sentence structure resembles a question.\",\n",
       " \"The input is labeled as 'True' if it contains a repeated letter.\",\n",
       " \"The input is labeled as 'True' if it contains an exclamation mark, and the word lengths alternate between odd and even, and it contains numbers in exponential notation.\",\n",
       " \"The input is labeled as 'True' if it contains three consecutive vowels and a smiley face and any numeric digits.\",\n",
       " \"The input is labeled as 'True' if it contains an acronym and two negation words and all words are in uppercase.\",\n",
       " \"The input is labeled as 'True' if it contains three consecutive vowels and contractions and any special characters.\",\n",
       " \"The input is labeled as 'True' if the number of letters in each word is a prime number and it contains numbers in exponential notation and it contains the '@' symbol.\",\n",
       " \"The input is labeled as 'True' if the sentence structure resembles a question and mentions a date and contains three consecutive vowels.\",\n",
       " \"The input is labeled as 'True' if all words are in uppercase and the word lengths alternate between odd and even and it contains contradictory statements.\",\n",
       " \"The input is labeled as 'True' if it starts with a capital letter, contains the word 'not', and contains a smiley face.\",\n",
       " \"The input is labeled as 'True' if the number of words is odd and all words are in uppercase and it contains gender-specific pronouns.\",\n",
       " \"The input is labeled as 'True' if the number of words is odd and it mentions weather conditions and it reads the same backward as forward.\",\n",
       " \"The input is labeled as 'True' if the number of letters in each word is a prime number and it contains three consecutive consonants and it contains three words with the same starting letter.\",\n",
       " \"The input is labeled as 'True' if it contains an exclamation mark, a repeated letter, and contradictory statements.\",\n",
       " \"The input is labeled as 'True' if it mentions a mathematical equation and the number of letters in each word is a prime number and it contains any numeric digits.\",\n",
       " \"The input is labeled as 'True' if it contains contradictory statements.\",\n",
       " \"The input is labeled as 'True' if the number of letters in each word is a prime number, the case alternates between words, and it contains a smiley face.\",\n",
       " \"The input is labeled as 'True' if it contains three consecutive consonants.\",\n",
       " \"The input is labeled as 'True' if it contains superlative adjectives and three consecutive vowels and any numeric digits.\",\n",
       " \"The input is labeled as 'True' if it contains an acronym, the word 'apple', and gender-specific pronouns.\",\n",
       " \"The input is labeled as 'True' if it contains contractions and a repeated letter and the name of an animal.\",\n",
       " \"The input is labeled as 'True' if it contains the '@' symbol, follows an A-B-A rhyme scheme, and the word lengths alternate between odd and even.\",\n",
       " \"The input is labeled as 'True' if it contains two words that rhyme.\",\n",
       " \"The input is labeled as 'True' if it contains a repeated letter, mentions a date, and contains gender-specific pronouns.\",\n",
       " \"The input is labeled as 'True' if it contains the name of an animal, contradictory statements, and any special characters.\",\n",
       " \"The input is labeled as 'True' if it contains the '@' symbol, the word 'not', and an acronym.\",\n",
       " \"The input is labeled as 'True' if it contains the word 'not', mentions a geographical location, and has an odd number of words.\",\n",
       " \"The input is labeled as 'True' if it follows an A-B-A rhyme scheme, all words are in uppercase, and contains gender-specific pronouns.\",\n",
       " \"The input is labeled as 'True' if the number of letters in each word is a prime number and it contains three consecutive consonants and it contains a political term.\",\n",
       " \"The input is labeled as 'True' if it contains three consecutive consonants.\",\n",
       " \"The input is labeled as 'True' if it contains an exclamation mark.\",\n",
       " \"The input is labeled as 'True' if it contains any numeric digits and any special characters, and the number of letters in each word is a prime number.\"]"
      ]
     },
     "execution_count": 144,
     "metadata": {},
     "output_type": "execute_result"
    }
   ],
   "source": [
    "misclassified_rules"
   ]
  },
  {
   "cell_type": "code",
   "execution_count": null,
   "id": "811b9e43",
   "metadata": {},
   "outputs": [],
   "source": []
  }
 ],
 "metadata": {
  "kernelspec": {
   "display_name": "Python 3 (ipykernel)",
   "language": "python",
   "name": "python3"
  },
  "language_info": {
   "codemirror_mode": {
    "name": "ipython",
    "version": 3
   },
   "file_extension": ".py",
   "mimetype": "text/x-python",
   "name": "python",
   "nbconvert_exporter": "python",
   "pygments_lexer": "ipython3",
   "version": "3.11.5"
  }
 },
 "nbformat": 4,
 "nbformat_minor": 5
}
