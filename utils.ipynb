{
 "cells": [
  {
   "cell_type": "code",
   "execution_count": 65,
   "id": "ac12e701",
   "metadata": {},
   "outputs": [],
   "source": [
    "import json"
   ]
  },
  {
   "cell_type": "code",
   "execution_count": 70,
   "id": "f6a9def2",
   "metadata": {},
   "outputs": [],
   "source": [
    "def transform_rules_to_groups(rules_json, groups_json):\n",
    "    transformed_json = {}\n",
    "\n",
    "    for group in groups_json[\"groups\"]:\n",
    "        rules = {}\n",
    "        for rule_name in group[\"rules\"]:\n",
    "            if rule_name in rules_json:\n",
    "                rules[rule_name] = rules_json[rule_name]\n",
    "\n",
    "        transformed_json[group[\"name\"]] = rules\n",
    "\n",
    "    return transformed_json"
   ]
  },
  {
   "cell_type": "code",
   "execution_count": 75,
   "id": "030ff5f0",
   "metadata": {},
   "outputs": [],
   "source": [
    "with open(\"data/icl_rules.json\",\"r\") as f:\n",
    "    icl_rules = json.loads(f.read())"
   ]
  },
  {
   "cell_type": "code",
   "execution_count": 76,
   "id": "86d58a54",
   "metadata": {},
   "outputs": [],
   "source": [
    "with open(\"data/rule_groups.json\",\"r\") as f:\n",
    "    rules_groups = json.loads(f.read())"
   ]
  },
  {
   "cell_type": "code",
   "execution_count": 83,
   "id": "337b3f6b",
   "metadata": {},
   "outputs": [],
   "source": [
    "icl_rules_grouped = transform_rules_to_groups(icl_rules,rules_groups)"
   ]
  },
  {
   "cell_type": "code",
   "execution_count": 84,
   "id": "35d8aded",
   "metadata": {},
   "outputs": [
    {
     "data": {
      "text/plain": [
       "{'example': \"The input is labeled as 'True' if it contains the word 'apple'.\",\n",
       " 'inputs': ['Input: I love eating apples. Label: True',\n",
       "  'Input: Bananas are my favorite. Label: False']}"
      ]
     },
     "execution_count": 84,
     "metadata": {},
     "output_type": "execute_result"
    }
   ],
   "source": [
    "icl_rules_grouped['Word Pattern and Structure']['Presence of Specific Word']"
   ]
  },
  {
   "cell_type": "code",
   "execution_count": 85,
   "id": "0ebc6fb9",
   "metadata": {},
   "outputs": [],
   "source": [
    "with open(\"data/icl_rules_grouped.json\",\"w\") as f:\n",
    "    f.write(json.dumps(icl_rules_grouped))"
   ]
  },
  {
   "cell_type": "code",
   "execution_count": 64,
   "id": "b19a328c",
   "metadata": {},
   "outputs": [],
   "source": [
    "with open(\"icl_rules.json\",\"w\") as f:\n",
    "    f.write(json.dumps(icl_rules_dict))"
   ]
  },
  {
   "cell_type": "code",
   "execution_count": 89,
   "id": "090a5167",
   "metadata": {},
   "outputs": [],
   "source": [
    "# icl_rules_dict = {}\n",
    "# for sample in icl_rules:\n",
    "#     rule_name = sample[0].split(\"Rule: \")[1]\n",
    "#     examples = sample[1:]\n",
    "#     icl_rules_dict[rule_name] = {\"examples\":input_labels}"
   ]
  },
  {
   "cell_type": "code",
   "execution_count": null,
   "id": "eb9fb135",
   "metadata": {},
   "outputs": [],
   "source": []
  }
 ],
 "metadata": {
  "kernelspec": {
   "display_name": "Python 3 (ipykernel)",
   "language": "python",
   "name": "python3"
  },
  "language_info": {
   "codemirror_mode": {
    "name": "ipython",
    "version": 3
   },
   "file_extension": ".py",
   "mimetype": "text/x-python",
   "name": "python",
   "nbconvert_exporter": "python",
   "pygments_lexer": "ipython3",
   "version": "3.11.5"
  }
 },
 "nbformat": 4,
 "nbformat_minor": 5
}
